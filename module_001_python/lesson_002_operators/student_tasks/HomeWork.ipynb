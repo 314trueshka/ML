{
 "cells": [
  {
   "cell_type": "markdown",
   "metadata": {},
   "source": [
    "# Задача 1\n",
    "\n",
    "Фильтр по квартирам. Есть информация о квартире, проверить следующие условия:\n",
    "* Цена меньше 3млн и 2 комнатная, но не в центре\n",
    "* В центре, не на первых этажах (1-3) и должен быть лифт\n",
    "* Без лифта и цена от 1млн до 2.5 млн"
   ]
  },
  {
   "cell_type": "code",
   "execution_count": 7,
   "metadata": {},
   "outputs": [],
   "source": [
    "# Цена квартиры\n",
    "price = 2_000_000\n",
    "\n",
    "# Кол-во комнат\n",
    "rooms = 1\n",
    "\n",
    "# Расположение в городе\n",
    "location = \"center\"\n",
    "\n",
    "# Наличие лифта\n",
    "elevator = True\n",
    "\n",
    "# Этаж\n",
    "floor = 7"
   ]
  },
  {
   "cell_type": "code",
   "execution_count": 8,
   "metadata": {},
   "outputs": [],
   "source": [
    "# Пишите здесь свой код\n",
    "\n"
   ]
  },
  {
   "cell_type": "markdown",
   "metadata": {},
   "source": [
    "# Задача 2\n",
    "\n",
    "* Вывести числа от 100 до 0, с шагом в 5"
   ]
  },
  {
   "cell_type": "code",
   "execution_count": 9,
   "metadata": {},
   "outputs": [],
   "source": [
    "# пишите здесь свой код"
   ]
  },
  {
   "cell_type": "markdown",
   "metadata": {},
   "source": [
    "# Задача 3\n",
    "* Напечатать список простых чисел от 2 до 1000 - http://ru.math.wikia.com/wiki/%D0%9F%D1%80%D0%BE%D1%81%D1%82%D0%BE%D0%B5_%D1%87%D0%B8%D1%81%D0%BB%D0%BE"
   ]
  },
  {
   "cell_type": "code",
   "execution_count": null,
   "metadata": {},
   "outputs": [],
   "source": [
    "# пишите здесь свой код"
   ]
  }
 ],
 "metadata": {
  "kernelspec": {
   "display_name": "Python 3",
   "language": "python",
   "name": "python3"
  },
  "language_info": {
   "codemirror_mode": {
    "name": "ipython",
    "version": 3
   },
   "file_extension": ".py",
   "mimetype": "text/x-python",
   "name": "python",
   "nbconvert_exporter": "python",
   "pygments_lexer": "ipython3",
   "version": "3.7.1"
  }
 },
 "nbformat": 4,
 "nbformat_minor": 2
}
